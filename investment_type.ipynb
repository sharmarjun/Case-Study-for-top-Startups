{
 "cells": [
  {
   "cell_type": "code",
   "execution_count": 8,
   "metadata": {},
   "outputs": [
    {
     "name": "stdout",
     "output_type": "stream",
     "text": [
      "Indian Angel Network\n",
      "Rajan Anandan\n",
      "LetsVenture\n",
      "Anupam Mittal\n",
      "Kunal Shah\n"
     ]
    },
    {
     "data": {
      "image/png": "[encoded data removed]",
      "text/plain": [
       "<Figure size 432x288 with 1 Axes>"
      ]
     },
     "metadata": {},
     "output_type": "display_data"
    }
   ],
   "source": [
    "\"\"\"In this problem we have to find the top 5 investors who have invested in a different number\n",
    "of startups and their investment type is Crowdfunding or Seed Funding\"\"\"\n",
    "\n",
    "import matplotlib.pyplot as plt\n",
    "import pandas as pd\n",
    "import numpy as np\n",
    "def function(investor):\n",
    "    list1=investor.split(\",\")\n",
    "    return list1\n",
    "\n",
    "\"\"\"Function is used to return the different number of investors present in a single startup into a list,\n",
    " this help us to iterate over different investors easily.\"\"\"\n",
    "\n",
    "df=pd.read_csv('Downloads/startup_funding.csv')\n",
    "df.StartupName.fillna(\"/\",inplace=True)\n",
    "df.InvestmentType.fillna(\"/\",inplace=True)\n",
    "df1=df.copy()\n",
    "    \n",
    "df1.StartupName=df1.StartupName.str.upper()\n",
    "df.StartupName.replace(\"Ola Cabs\",\"Ola\",inplace=True)\n",
    "df.StartupName.replace(\"Oyo Rooms\",\"Oyo\",inplace=True)\n",
    "df.StartupName.replace(\"Flipkart.com\",\"Flipkart\",inplace=True)\n",
    "df.StartupName.replace(\"Olacabs\",\"Ola\",inplace=True)\n",
    "df.StartupName.replace(\"OYO Rooms\",\"Oyo\",inplace=True)\n",
    "df.StartupName.replace(\"OyoRooms\",\"Oyo\",inplace=True)\n",
    "df.StartupName.replace(\"Oyorooms\",\"Oyo\",inplace=True)\n",
    "df.StartupName.replace(\"Ola Cabs\",\"Ola\",inplace=True)\n",
    "df.StartupName.replace(\"Paytm Marketplace\",\"Paytm\",inplace=True)\n",
    "df.InvestmentType.replace('SeedFunding','Seed Funding',inplace=True)\n",
    "df.InvestmentType.replace('PrivateEquity','Private Equity',inplace=True)\n",
    "df.InvestmentType.replace('Crowd funding','Crowd Funding',inplace=True)\n",
    "    \n",
    "d={}\n",
    "\"\"\" Now we have to use a dictionary such that it contains the key(InvestorsName) and key values as StartUpName . \n",
    "We have to find only investors where InvestmentType is Seed Funding and Crowd Funding\"\"\"\n",
    "\n",
    "df.InvestorsName.fillna(\"/\",inplace=True)\n",
    "df.InvestorsName=df.InvestorsName.apply(function)\n",
    "for i in df.InvestorsName.index:\n",
    "    for j in df.InvestorsName[i]:\n",
    "        if(j!=\"/\"):\n",
    "            if(df.InvestmentType[i]==\"Seed Funding\") or (df.InvestmentType[i]==\"Crowd Funding\"):\n",
    "                if( df.StartupName[i].strip() not in d.get(j.strip(),\"/\")):\n",
    "                    d[j.strip()]=(d.get(j.strip(),\"/\")) + \"/\" + (df.StartupName[i])\n",
    "                    \n",
    "\"\"\"Deleting the Undisclosed Investors and empty valued entries from the dictionary. \"\"\"\n",
    "\n",
    "del d[\"Undisclosed investors\"]\n",
    "del d[\"Undisclosed Investors\"]\n",
    "del d[\"\"]\n",
    "\n",
    "names=np.array(list(d.keys()))\n",
    "list1=list(d.values())\n",
    "vlues=np.array([len(i.split(\"/\")) for i in list1])\n",
    "xaxis=[]\n",
    "yaxis=[]\n",
    "for i in range(0,5):\n",
    "    index=vlues.argmax()\n",
    "    print(names[index])\n",
    "    xaxis.append(names[index])\n",
    "    yaxis.append(vlues[index])\n",
    "    vlues[index]=0\n",
    "plt.pie(yaxis,labels=xaxis,autopct=\"%.2f\"'%%')\n",
    "plt.show()\n"
   ]
  },
  {
   "cell_type": "code",
   "execution_count": null,
   "metadata": {},
   "outputs": [],
   "source": []
  }
 ],
 "metadata": {
  "kernelspec": {
   "display_name": "Python 3",
   "language": "python",
   "name": "python3"
  },
  "language_info": {
   "codemirror_mode": {
    "name": "ipython",
    "version": 3
   },
   "file_extension": ".py",
   "mimetype": "text/x-python",
   "name": "python",
   "nbconvert_exporter": "python",
   "pygments_lexer": "ipython3",
   "version": "3.7.4"
  }
 },
 "nbformat": 4,
 "nbformat_minor": 2
}
