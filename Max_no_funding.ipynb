{
 "cells": [
  {
   "cell_type": "code",
   "execution_count": 10,
   "metadata": {},
   "outputs": [
    {
     "name": "stdout",
     "output_type": "stream",
     "text": [
      "NCR 709\n",
      "Bangalore 637\n",
      "Mumbai 449\n"
     ]
    },
    {
     "data": {
      "image/png": "[encoded data removed]",
      "text/plain": [
       "<Figure size 432x288 with 1 Axes>"
      ]
     },
     "metadata": {},
     "output_type": "display_data"
    },
    {
     "data": {
      "image/png": "[encoded data removed]",
      "text/plain": [
       "<Figure size 432x288 with 1 Axes>"
      ]
     },
     "metadata": {
      "needs_background": "light"
     },
     "output_type": "display_data"
    }
   ],
   "source": [
    "\"\"\"\"In first question we have to find the location where the most number of funding is done. That means,\n",
    "find the location where startups has received funding maximum number of times. So first we have to import main libraries\n",
    "required for this problem\"\"\" \n",
    "import pandas as pd\n",
    "import numpy as np\n",
    "import matplotlib.pyplot as plt\n",
    "a=pd.read_csv('Downloads/startup_funding.csv')\n",
    "dt=a.copy()\n",
    "df2=dt.copy()\n",
    "\n",
    "\"\"\" After making copy of csv file we have to correct the mistakes present in the CityLocation of main cities\n",
    "required in this question with the help of a function check \"\"\"\n",
    "def Check(x):\n",
    "    if(x == 'bangalore'):\n",
    "        return 'Bangalore'\n",
    "    elif (x == 'New Delhi'):\n",
    "        return 'NCR'\n",
    "    elif x=='Gurgaon':\n",
    "        return 'NCR'\n",
    "    elif x=='Noida':\n",
    "        return 'NCR'\n",
    "    elif x=='Delhi':\n",
    "        return 'NCR'\n",
    "   \n",
    "    return x\n",
    "df2['CityLocation'] = df2['CityLocation'].apply(Check)\n",
    "\n",
    "\"\"\" As there are entries where multiple locations are given in the form of location1/location2 so we have to include those \n",
    "location in our solution \"\"\"\n",
    "\n",
    "d={}        \n",
    "count=0\n",
    "for i in df2.CityLocation.dropna():\n",
    "    p=i.split('/')\n",
    "    if len(p)==2:\n",
    "        c2=p[1].strip()\n",
    "        if c2=='Bangalore':\n",
    "            d[c2]=d[c2]+1\n",
    "            \n",
    "    c1=p[0].strip()\n",
    "    if c1==\"New Delhi\":\n",
    "        c1='NCR'\n",
    "        d[c1]=d[c1]+1\n",
    "    elif c1==\"Gurgaon\":\n",
    "        c1=\"NCR\"\n",
    "        d[c1]=d[c1]+1\n",
    "    elif c1==\"Noida\":\n",
    "        c1='NCR'\n",
    "        d[c1]=d[c1]+1\n",
    "    elif c1=='bangalore':\n",
    "        c1='Bangalore'\n",
    "        d[c1]=d[c1]+1\n",
    "    elif c1 in d:\n",
    "        d[c1]+=1\n",
    "    else:\n",
    "        d[c1]=1\n",
    "\"\"\"After creating dictionary which have a key value citylocation and after that we will find the number\n",
    " associated with cities Bangalore,NCR and Mumbai\"\"\"\n",
    "names=np.array(list(d.keys()))\n",
    "list1=list(d.values())\n",
    "vlues=np.array([i for i in list1])\n",
    "xaxis=[]\n",
    "yaxis=[]\n",
    "                            \n",
    "for i in range(0,3):\n",
    "    index=vlues.argmax()\n",
    "    print(names[index],vlues[index])\n",
    "    xaxis.append(names[index])\n",
    "    yaxis.append(vlues[index])\n",
    "    vlues[index]=0\n",
    "plt.pie(yaxis,labels=xaxis,autopct=\"%.2f\")\n",
    "plt.show()\n",
    "plt.bar(xaxis,yaxis)\n",
    "plt.xticks(rotation=10)\n",
    "plt.show()\n"
   ]
  },
  {
   "cell_type": "code",
   "execution_count": null,
   "metadata": {},
   "outputs": [],
   "source": []
  }
 ],
 "metadata": {
  "kernelspec": {
   "display_name": "Python 3",
   "language": "python",
   "name": "python3"
  },
  "language_info": {
   "codemirror_mode": {
    "name": "ipython",
    "version": 3
   },
   "file_extension": ".py",
   "mimetype": "text/x-python",
   "name": "python",
   "nbconvert_exporter": "python",
   "pygments_lexer": "ipython3",
   "version": "3.7.4"
  }
 },
 "nbformat": 4,
 "nbformat_minor": 2
}
